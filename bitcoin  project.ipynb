{
 "cells": [
  {
   "cell_type": "code",
   "execution_count": 1,
   "metadata": {},
   "outputs": [],
   "source": [
    "import numpy as np \n",
    "import pandas as pd"
   ]
  },
  {
   "cell_type": "code",
   "execution_count": 2,
   "metadata": {},
   "outputs": [],
   "source": [
    "bitcoin =pd.read_csv(\"DATA SET3.csv\")"
   ]
  },
  {
   "cell_type": "code",
   "execution_count": 3,
   "metadata": {},
   "outputs": [
    {
     "data": {
      "text/html": [
       "<div>\n",
       "<style scoped>\n",
       "    .dataframe tbody tr th:only-of-type {\n",
       "        vertical-align: middle;\n",
       "    }\n",
       "\n",
       "    .dataframe tbody tr th {\n",
       "        vertical-align: top;\n",
       "    }\n",
       "\n",
       "    .dataframe thead th {\n",
       "        text-align: right;\n",
       "    }\n",
       "</style>\n",
       "<table border=\"1\" class=\"dataframe\">\n",
       "  <thead>\n",
       "    <tr style=\"text-align: right;\">\n",
       "      <th></th>\n",
       "      <th>date</th>\n",
       "      <th>price</th>\n",
       "    </tr>\n",
       "  </thead>\n",
       "  <tbody>\n",
       "    <tr>\n",
       "      <td>0</td>\n",
       "      <td>08-02-2020</td>\n",
       "      <td>840.750</td>\n",
       "    </tr>\n",
       "    <tr>\n",
       "      <td>1</td>\n",
       "      <td>11-02-2020</td>\n",
       "      <td>888.200</td>\n",
       "    </tr>\n",
       "    <tr>\n",
       "      <td>2</td>\n",
       "      <td>12-02-2013</td>\n",
       "      <td>812.600</td>\n",
       "    </tr>\n",
       "    <tr>\n",
       "      <td>3</td>\n",
       "      <td>13-02-2013</td>\n",
       "      <td>1025.950</td>\n",
       "    </tr>\n",
       "    <tr>\n",
       "      <td>4</td>\n",
       "      <td>14-02-2013</td>\n",
       "      <td>318.799</td>\n",
       "    </tr>\n",
       "    <tr>\n",
       "      <td>5</td>\n",
       "      <td>15-02-2013</td>\n",
       "      <td>1562.800</td>\n",
       "    </tr>\n",
       "    <tr>\n",
       "      <td>6</td>\n",
       "      <td>19-02-2013</td>\n",
       "      <td>113.544</td>\n",
       "    </tr>\n",
       "  </tbody>\n",
       "</table>\n",
       "</div>"
      ],
      "text/plain": [
       "         date     price\n",
       "0  08-02-2020   840.750\n",
       "1  11-02-2020   888.200\n",
       "2  12-02-2013   812.600\n",
       "3  13-02-2013  1025.950\n",
       "4  14-02-2013   318.799\n",
       "5  15-02-2013  1562.800\n",
       "6  19-02-2013   113.544"
      ]
     },
     "execution_count": 3,
     "metadata": {},
     "output_type": "execute_result"
    }
   ],
   "source": [
    "bitcoin.head(7)"
   ]
  },
  {
   "cell_type": "code",
   "execution_count": 4,
   "metadata": {},
   "outputs": [
    {
     "data": {
      "text/html": [
       "<div>\n",
       "<style scoped>\n",
       "    .dataframe tbody tr th:only-of-type {\n",
       "        vertical-align: middle;\n",
       "    }\n",
       "\n",
       "    .dataframe tbody tr th {\n",
       "        vertical-align: top;\n",
       "    }\n",
       "\n",
       "    .dataframe thead th {\n",
       "        text-align: right;\n",
       "    }\n",
       "</style>\n",
       "<table border=\"1\" class=\"dataframe\">\n",
       "  <thead>\n",
       "    <tr style=\"text-align: right;\">\n",
       "      <th></th>\n",
       "      <th>date</th>\n",
       "      <th>price</th>\n",
       "    </tr>\n",
       "  </thead>\n",
       "  <tbody>\n",
       "    <tr>\n",
       "      <td>115</td>\n",
       "      <td>05-11-2013</td>\n",
       "      <td>689.85</td>\n",
       "    </tr>\n",
       "    <tr>\n",
       "      <td>116</td>\n",
       "      <td>06-11-2013</td>\n",
       "      <td>553.71</td>\n",
       "    </tr>\n",
       "    <tr>\n",
       "      <td>117</td>\n",
       "      <td>28-10-2013</td>\n",
       "      <td>450.00</td>\n",
       "    </tr>\n",
       "    <tr>\n",
       "      <td>118</td>\n",
       "      <td>29-10-2013</td>\n",
       "      <td>800.00</td>\n",
       "    </tr>\n",
       "    <tr>\n",
       "      <td>119</td>\n",
       "      <td>30-10-2013</td>\n",
       "      <td>432.00</td>\n",
       "    </tr>\n",
       "  </tbody>\n",
       "</table>\n",
       "</div>"
      ],
      "text/plain": [
       "           date   price\n",
       "115  05-11-2013  689.85\n",
       "116  06-11-2013  553.71\n",
       "117  28-10-2013  450.00\n",
       "118  29-10-2013  800.00\n",
       "119  30-10-2013  432.00"
      ]
     },
     "execution_count": 4,
     "metadata": {},
     "output_type": "execute_result"
    }
   ],
   "source": [
    "bitcoin.tail()"
   ]
  },
  {
   "cell_type": "code",
   "execution_count": 5,
   "metadata": {},
   "outputs": [],
   "source": [
    "bitcoin.drop(['date'],1,  inplace=True)"
   ]
  },
  {
   "cell_type": "code",
   "execution_count": 6,
   "metadata": {},
   "outputs": [
    {
     "data": {
      "text/html": [
       "<div>\n",
       "<style scoped>\n",
       "    .dataframe tbody tr th:only-of-type {\n",
       "        vertical-align: middle;\n",
       "    }\n",
       "\n",
       "    .dataframe tbody tr th {\n",
       "        vertical-align: top;\n",
       "    }\n",
       "\n",
       "    .dataframe thead th {\n",
       "        text-align: right;\n",
       "    }\n",
       "</style>\n",
       "<table border=\"1\" class=\"dataframe\">\n",
       "  <thead>\n",
       "    <tr style=\"text-align: right;\">\n",
       "      <th></th>\n",
       "      <th>price</th>\n",
       "    </tr>\n",
       "  </thead>\n",
       "  <tbody>\n",
       "    <tr>\n",
       "      <td>0</td>\n",
       "      <td>840.750</td>\n",
       "    </tr>\n",
       "    <tr>\n",
       "      <td>1</td>\n",
       "      <td>888.200</td>\n",
       "    </tr>\n",
       "    <tr>\n",
       "      <td>2</td>\n",
       "      <td>812.600</td>\n",
       "    </tr>\n",
       "    <tr>\n",
       "      <td>3</td>\n",
       "      <td>1025.950</td>\n",
       "    </tr>\n",
       "    <tr>\n",
       "      <td>4</td>\n",
       "      <td>318.799</td>\n",
       "    </tr>\n",
       "    <tr>\n",
       "      <td>5</td>\n",
       "      <td>1562.800</td>\n",
       "    </tr>\n",
       "    <tr>\n",
       "      <td>6</td>\n",
       "      <td>113.544</td>\n",
       "    </tr>\n",
       "  </tbody>\n",
       "</table>\n",
       "</div>"
      ],
      "text/plain": [
       "      price\n",
       "0   840.750\n",
       "1   888.200\n",
       "2   812.600\n",
       "3  1025.950\n",
       "4   318.799\n",
       "5  1562.800\n",
       "6   113.544"
      ]
     },
     "execution_count": 6,
     "metadata": {},
     "output_type": "execute_result"
    }
   ],
   "source": [
    "bitcoin.head(7)"
   ]
  },
  {
   "cell_type": "code",
   "execution_count": 7,
   "metadata": {},
   "outputs": [],
   "source": [
    "prediction_days = 30"
   ]
  },
  {
   "cell_type": "code",
   "execution_count": 8,
   "metadata": {},
   "outputs": [],
   "source": [
    "bitcoin['Prediction'] = bitcoin[['price']].shift(-prediction_days)"
   ]
  },
  {
   "cell_type": "code",
   "execution_count": 9,
   "metadata": {},
   "outputs": [
    {
     "data": {
      "text/html": [
       "<div>\n",
       "<style scoped>\n",
       "    .dataframe tbody tr th:only-of-type {\n",
       "        vertical-align: middle;\n",
       "    }\n",
       "\n",
       "    .dataframe tbody tr th {\n",
       "        vertical-align: top;\n",
       "    }\n",
       "\n",
       "    .dataframe thead th {\n",
       "        text-align: right;\n",
       "    }\n",
       "</style>\n",
       "<table border=\"1\" class=\"dataframe\">\n",
       "  <thead>\n",
       "    <tr style=\"text-align: right;\">\n",
       "      <th></th>\n",
       "      <th>price</th>\n",
       "      <th>Prediction</th>\n",
       "    </tr>\n",
       "  </thead>\n",
       "  <tbody>\n",
       "    <tr>\n",
       "      <td>0</td>\n",
       "      <td>840.750</td>\n",
       "      <td>840.00</td>\n",
       "    </tr>\n",
       "    <tr>\n",
       "      <td>1</td>\n",
       "      <td>888.200</td>\n",
       "      <td>689.85</td>\n",
       "    </tr>\n",
       "    <tr>\n",
       "      <td>2</td>\n",
       "      <td>812.600</td>\n",
       "      <td>553.71</td>\n",
       "    </tr>\n",
       "    <tr>\n",
       "      <td>3</td>\n",
       "      <td>1025.950</td>\n",
       "      <td>832.41</td>\n",
       "    </tr>\n",
       "    <tr>\n",
       "      <td>4</td>\n",
       "      <td>318.799</td>\n",
       "      <td>522.23</td>\n",
       "    </tr>\n",
       "  </tbody>\n",
       "</table>\n",
       "</div>"
      ],
      "text/plain": [
       "      price  Prediction\n",
       "0   840.750      840.00\n",
       "1   888.200      689.85\n",
       "2   812.600      553.71\n",
       "3  1025.950      832.41\n",
       "4   318.799      522.23"
      ]
     },
     "execution_count": 9,
     "metadata": {},
     "output_type": "execute_result"
    }
   ],
   "source": [
    "bitcoin.head()"
   ]
  },
  {
   "cell_type": "code",
   "execution_count": 10,
   "metadata": {},
   "outputs": [
    {
     "data": {
      "text/html": [
       "<div>\n",
       "<style scoped>\n",
       "    .dataframe tbody tr th:only-of-type {\n",
       "        vertical-align: middle;\n",
       "    }\n",
       "\n",
       "    .dataframe tbody tr th {\n",
       "        vertical-align: top;\n",
       "    }\n",
       "\n",
       "    .dataframe thead th {\n",
       "        text-align: right;\n",
       "    }\n",
       "</style>\n",
       "<table border=\"1\" class=\"dataframe\">\n",
       "  <thead>\n",
       "    <tr style=\"text-align: right;\">\n",
       "      <th></th>\n",
       "      <th>price</th>\n",
       "      <th>Prediction</th>\n",
       "    </tr>\n",
       "  </thead>\n",
       "  <tbody>\n",
       "    <tr>\n",
       "      <td>115</td>\n",
       "      <td>689.85</td>\n",
       "      <td>NaN</td>\n",
       "    </tr>\n",
       "    <tr>\n",
       "      <td>116</td>\n",
       "      <td>553.71</td>\n",
       "      <td>NaN</td>\n",
       "    </tr>\n",
       "    <tr>\n",
       "      <td>117</td>\n",
       "      <td>450.00</td>\n",
       "      <td>NaN</td>\n",
       "    </tr>\n",
       "    <tr>\n",
       "      <td>118</td>\n",
       "      <td>800.00</td>\n",
       "      <td>NaN</td>\n",
       "    </tr>\n",
       "    <tr>\n",
       "      <td>119</td>\n",
       "      <td>432.00</td>\n",
       "      <td>NaN</td>\n",
       "    </tr>\n",
       "  </tbody>\n",
       "</table>\n",
       "</div>"
      ],
      "text/plain": [
       "      price  Prediction\n",
       "115  689.85         NaN\n",
       "116  553.71         NaN\n",
       "117  450.00         NaN\n",
       "118  800.00         NaN\n",
       "119  432.00         NaN"
      ]
     },
     "execution_count": 10,
     "metadata": {},
     "output_type": "execute_result"
    }
   ],
   "source": [
    "bitcoin.tail()"
   ]
  },
  {
   "cell_type": "code",
   "execution_count": 11,
   "metadata": {},
   "outputs": [],
   "source": [
    "X = np.array(bitcoin.drop(['Prediction'],1))"
   ]
  },
  {
   "cell_type": "code",
   "execution_count": 12,
   "metadata": {},
   "outputs": [
    {
     "name": "stdout",
     "output_type": "stream",
     "text": [
      "[[ 840.75  ]\n",
      " [ 888.2   ]\n",
      " [ 812.6   ]\n",
      " [1025.95  ]\n",
      " [ 318.799 ]\n",
      " [1562.8   ]\n",
      " [ 113.544 ]\n",
      " [ 147.252 ]\n",
      " [1192.21  ]\n",
      " [ 607.14  ]\n",
      " [ 718.64  ]\n",
      " [ 800.    ]\n",
      " [ 739.05  ]\n",
      " [ 614.36  ]\n",
      " [ 737.68  ]\n",
      " [ 817.48  ]\n",
      " [ 767.61  ]\n",
      " [1324.32  ]\n",
      " [ 912.53  ]\n",
      " [1059.37  ]\n",
      " [ 696.18  ]\n",
      " [ 899.91  ]\n",
      " [1138.    ]\n",
      " [ 838.33  ]\n",
      " [ 176.677 ]\n",
      " [ 651.41  ]\n",
      " [1180.53  ]\n",
      " [1081.98  ]\n",
      " [ 107.408 ]\n",
      " [ 854.52  ]\n",
      " [ 840.    ]\n",
      " [ 689.85  ]\n",
      " [ 553.71  ]\n",
      " [ 832.41  ]\n",
      " [ 522.23  ]\n",
      " [1459.56  ]\n",
      " [ 169.979 ]\n",
      " [ 190.012 ]\n",
      " [1299.8   ]\n",
      " [ 129.98  ]\n",
      " [ 199.995 ]\n",
      " [ 129.98  ]\n",
      " [ 150.013 ]\n",
      " [1500.13  ]\n",
      " [1500.13  ]\n",
      " [ 169.979 ]\n",
      " [ 199.995 ]\n",
      " [ 800.    ]\n",
      " [1200.    ]\n",
      " [1100.14  ]\n",
      " [1130.9   ]\n",
      " [1299.8   ]\n",
      " [ 220.028 ]\n",
      " [ 300.026 ]\n",
      " [ 239.994 ]\n",
      " [ 220.028 ]\n",
      " [ 199.995 ]\n",
      " [ 110.014 ]\n",
      " [  23.9994]\n",
      " [ 300.    ]\n",
      " [ 500.    ]\n",
      " [ 190.12  ]\n",
      " [  26.0027]\n",
      " [ 129.8   ]\n",
      " [ 190.12  ]\n",
      " [ 682.7   ]\n",
      " [  16.9979]\n",
      " [ 700.    ]\n",
      " [  19.9995]\n",
      " [  19.0012]\n",
      " [  19.0012]\n",
      " [  16.9979]\n",
      " [  16.9979]\n",
      " [  15.0013]\n",
      " [   7.0015]\n",
      " [ 800.    ]\n",
      " [ 850.    ]\n",
      " [ 500.    ]\n",
      " [ 900.    ]\n",
      " [ 230.    ]\n",
      " [ 450.    ]\n",
      " [ 300.    ]\n",
      " [ 210.7   ]\n",
      " [ 400.9   ]\n",
      " [ 840.75  ]\n",
      " [ 888.2   ]\n",
      " [ 812.6   ]\n",
      " [1025.95  ]\n",
      " [ 318.799 ]\n",
      " [1562.8   ]]\n"
     ]
    }
   ],
   "source": [
    "X= X[:len(bitcoin)-prediction_days]\n",
    "print(X)"
   ]
  },
  {
   "cell_type": "code",
   "execution_count": 13,
   "metadata": {},
   "outputs": [],
   "source": [
    " y = np.array(bitcoin['Prediction']) "
   ]
  },
  {
   "cell_type": "code",
   "execution_count": 14,
   "metadata": {},
   "outputs": [],
   "source": [
    "y = np.array(bitcoin['Prediction']) "
   ]
  },
  {
   "cell_type": "code",
   "execution_count": 15,
   "metadata": {},
   "outputs": [
    {
     "name": "stdout",
     "output_type": "stream",
     "text": [
      "[ 840.      689.85    553.71    832.41    522.23   1459.56    169.979\n",
      "  190.012  1299.8     129.98    199.995   129.98    150.013  1500.13\n",
      " 1500.13    169.979   199.995   800.     1200.     1100.14   1130.9\n",
      " 1299.8     220.028   300.026   239.994   220.028   199.995   110.014\n",
      "   23.9994  300.      500.      190.12     26.0027  129.8     190.12\n",
      "  682.7      16.9979  700.       19.9995   19.0012   19.0012   16.9979\n",
      "   16.9979   15.0013    7.0015  800.      850.      500.      900.\n",
      "  230.      450.      300.      210.7     400.9     840.75    888.2\n",
      "  812.6    1025.95    318.799  1562.8     113.544   147.252   600.\n",
      "  607.14    718.64    800.      739.05    614.36    737.68    817.48\n",
      "  767.61   1324.32    912.53   1059.37    696.18    899.91   1138.\n",
      "  838.33    750.      651.41   1180.53   1081.98    107.408   854.52\n",
      "  840.      689.85    553.71    450.      800.      432.    ]\n"
     ]
    }
   ],
   "source": [
    "y = y[:-prediction_days] \n",
    "print(y)"
   ]
  },
  {
   "cell_type": "code",
   "execution_count": 16,
   "metadata": {},
   "outputs": [],
   "source": [
    "from sklearn.model_selection import train_test_split\n",
    "x_train, x_test, y_train, y_test = train_test_split(X, y, test_size=0.2)"
   ]
  },
  {
   "cell_type": "code",
   "execution_count": 17,
   "metadata": {},
   "outputs": [],
   "source": [
    "prediction_days_array = np.array(bitcoin.drop(['Prediction'],1))[-prediction_days:]"
   ]
  },
  {
   "cell_type": "code",
   "execution_count": 18,
   "metadata": {},
   "outputs": [
    {
     "name": "stdout",
     "output_type": "stream",
     "text": [
      "[[ 113.544]\n",
      " [ 147.252]\n",
      " [ 600.   ]\n",
      " [ 607.14 ]\n",
      " [ 718.64 ]\n",
      " [ 800.   ]\n",
      " [ 739.05 ]\n",
      " [ 614.36 ]\n",
      " [ 737.68 ]\n",
      " [ 817.48 ]\n",
      " [ 767.61 ]\n",
      " [1324.32 ]\n",
      " [ 912.53 ]\n",
      " [1059.37 ]\n",
      " [ 696.18 ]\n",
      " [ 899.91 ]\n",
      " [1138.   ]\n",
      " [ 838.33 ]\n",
      " [ 750.   ]\n",
      " [ 651.41 ]\n",
      " [1180.53 ]\n",
      " [1081.98 ]\n",
      " [ 107.408]\n",
      " [ 854.52 ]\n",
      " [ 840.   ]\n",
      " [ 689.85 ]\n",
      " [ 553.71 ]\n",
      " [ 450.   ]\n",
      " [ 800.   ]\n",
      " [ 432.   ]]\n"
     ]
    }
   ],
   "source": [
    "print(prediction_days_array)"
   ]
  },
  {
   "cell_type": "code",
   "execution_count": 19,
   "metadata": {},
   "outputs": [],
   "source": [
    "from sklearn.svm import SVR \n"
   ]
  },
  {
   "cell_type": "code",
   "execution_count": 20,
   "metadata": {},
   "outputs": [
    {
     "data": {
      "text/plain": [
       "SVR(C=1000.0, gamma=1e-05)"
      ]
     },
     "execution_count": 20,
     "metadata": {},
     "output_type": "execute_result"
    }
   ],
   "source": [
    "svr_rbf = SVR(kernel='rbf', C=1e3, gamma=0.00001)\n",
    "svr_rbf"
   ]
  },
  {
   "cell_type": "code",
   "execution_count": 21,
   "metadata": {},
   "outputs": [
    {
     "data": {
      "text/plain": [
       "SVR(C=1000.0, gamma=1e-05)"
      ]
     },
     "execution_count": 21,
     "metadata": {},
     "output_type": "execute_result"
    }
   ],
   "source": [
    "svr_rbf.fit(x_train, y_train)"
   ]
  },
  {
   "cell_type": "code",
   "execution_count": 22,
   "metadata": {},
   "outputs": [
    {
     "name": "stdout",
     "output_type": "stream",
     "text": [
      "svr_rbf accuracy:  0.031746520297279646\n"
     ]
    }
   ],
   "source": [
    "svr_rbf_confidence = svr_rbf.score(x_test, y_test)\n",
    "print(\"svr_rbf accuracy: \", svr_rbf_confidence)"
   ]
  },
  {
   "cell_type": "code",
   "execution_count": 23,
   "metadata": {},
   "outputs": [
    {
     "name": "stdout",
     "output_type": "stream",
     "text": [
      "[532.57548541 718.9442318  658.38255297 440.07116843 661.1266279\n",
      " 385.09623697 674.69878517 380.53457942 668.44618737 394.95812016\n",
      " 563.43594436 443.62278786 545.70025914 393.59013074 678.90366676\n",
      " 617.83281787 586.65129423 670.51626855]\n",
      "\n"
     ]
    }
   ],
   "source": [
    "svm_prediction = svr_rbf.predict(x_test)\n",
    "print(svm_prediction)\n",
    "print()"
   ]
  },
  {
   "cell_type": "code",
   "execution_count": 24,
   "metadata": {
    "scrolled": true
   },
   "outputs": [
    {
     "name": "stdout",
     "output_type": "stream",
     "text": [
      "[ 129.98    113.544   840.75    220.028   689.85   1299.8     912.53\n",
      "  900.      737.68     19.9995  239.994   150.013     7.0015  199.995\n",
      " 1059.37    832.41    129.8     817.48  ]\n"
     ]
    }
   ],
   "source": [
    "print(y_test)"
   ]
  },
  {
   "cell_type": "code",
   "execution_count": 25,
   "metadata": {
    "scrolled": true
   },
   "outputs": [
    {
     "name": "stdout",
     "output_type": "stream",
     "text": [
      "[543.08156958 542.81762818 495.23284137 482.57755919 424.97333159\n",
      " 532.57548541 443.62278786 470.68860083 442.13985354 562.01489587\n",
      " 480.75676313 414.03795985 679.17484727 565.65559755 414.00823913\n",
      " 671.14322733 440.07116843 596.09577745 456.53988753 426.21552321\n",
      " 393.59013074 527.61546187 545.96154414 620.46886323 598.71540514\n",
      " 412.9107201  593.63888723 811.73066382 532.57548541 833.85859385]\n"
     ]
    }
   ],
   "source": [
    "svm_prediction = svr_rbf.predict(prediction_days_array)\n",
    "print(svm_prediction)"
   ]
  },
  {
   "cell_type": "code",
   "execution_count": 26,
   "metadata": {},
   "outputs": [
    {
     "data": {
      "text/html": [
       "<div>\n",
       "<style scoped>\n",
       "    .dataframe tbody tr th:only-of-type {\n",
       "        vertical-align: middle;\n",
       "    }\n",
       "\n",
       "    .dataframe tbody tr th {\n",
       "        vertical-align: top;\n",
       "    }\n",
       "\n",
       "    .dataframe thead th {\n",
       "        text-align: right;\n",
       "    }\n",
       "</style>\n",
       "<table border=\"1\" class=\"dataframe\">\n",
       "  <thead>\n",
       "    <tr style=\"text-align: right;\">\n",
       "      <th></th>\n",
       "      <th>price</th>\n",
       "      <th>Prediction</th>\n",
       "    </tr>\n",
       "  </thead>\n",
       "  <tbody>\n",
       "    <tr>\n",
       "      <td>90</td>\n",
       "      <td>113.544</td>\n",
       "      <td>NaN</td>\n",
       "    </tr>\n",
       "    <tr>\n",
       "      <td>91</td>\n",
       "      <td>147.252</td>\n",
       "      <td>NaN</td>\n",
       "    </tr>\n",
       "    <tr>\n",
       "      <td>92</td>\n",
       "      <td>600.000</td>\n",
       "      <td>NaN</td>\n",
       "    </tr>\n",
       "    <tr>\n",
       "      <td>93</td>\n",
       "      <td>607.140</td>\n",
       "      <td>NaN</td>\n",
       "    </tr>\n",
       "    <tr>\n",
       "      <td>94</td>\n",
       "      <td>718.640</td>\n",
       "      <td>NaN</td>\n",
       "    </tr>\n",
       "    <tr>\n",
       "      <td>95</td>\n",
       "      <td>800.000</td>\n",
       "      <td>NaN</td>\n",
       "    </tr>\n",
       "    <tr>\n",
       "      <td>96</td>\n",
       "      <td>739.050</td>\n",
       "      <td>NaN</td>\n",
       "    </tr>\n",
       "    <tr>\n",
       "      <td>97</td>\n",
       "      <td>614.360</td>\n",
       "      <td>NaN</td>\n",
       "    </tr>\n",
       "    <tr>\n",
       "      <td>98</td>\n",
       "      <td>737.680</td>\n",
       "      <td>NaN</td>\n",
       "    </tr>\n",
       "    <tr>\n",
       "      <td>99</td>\n",
       "      <td>817.480</td>\n",
       "      <td>NaN</td>\n",
       "    </tr>\n",
       "    <tr>\n",
       "      <td>100</td>\n",
       "      <td>767.610</td>\n",
       "      <td>NaN</td>\n",
       "    </tr>\n",
       "    <tr>\n",
       "      <td>101</td>\n",
       "      <td>1324.320</td>\n",
       "      <td>NaN</td>\n",
       "    </tr>\n",
       "    <tr>\n",
       "      <td>102</td>\n",
       "      <td>912.530</td>\n",
       "      <td>NaN</td>\n",
       "    </tr>\n",
       "    <tr>\n",
       "      <td>103</td>\n",
       "      <td>1059.370</td>\n",
       "      <td>NaN</td>\n",
       "    </tr>\n",
       "    <tr>\n",
       "      <td>104</td>\n",
       "      <td>696.180</td>\n",
       "      <td>NaN</td>\n",
       "    </tr>\n",
       "    <tr>\n",
       "      <td>105</td>\n",
       "      <td>899.910</td>\n",
       "      <td>NaN</td>\n",
       "    </tr>\n",
       "    <tr>\n",
       "      <td>106</td>\n",
       "      <td>1138.000</td>\n",
       "      <td>NaN</td>\n",
       "    </tr>\n",
       "    <tr>\n",
       "      <td>107</td>\n",
       "      <td>838.330</td>\n",
       "      <td>NaN</td>\n",
       "    </tr>\n",
       "    <tr>\n",
       "      <td>108</td>\n",
       "      <td>750.000</td>\n",
       "      <td>NaN</td>\n",
       "    </tr>\n",
       "    <tr>\n",
       "      <td>109</td>\n",
       "      <td>651.410</td>\n",
       "      <td>NaN</td>\n",
       "    </tr>\n",
       "    <tr>\n",
       "      <td>110</td>\n",
       "      <td>1180.530</td>\n",
       "      <td>NaN</td>\n",
       "    </tr>\n",
       "    <tr>\n",
       "      <td>111</td>\n",
       "      <td>1081.980</td>\n",
       "      <td>NaN</td>\n",
       "    </tr>\n",
       "    <tr>\n",
       "      <td>112</td>\n",
       "      <td>107.408</td>\n",
       "      <td>NaN</td>\n",
       "    </tr>\n",
       "    <tr>\n",
       "      <td>113</td>\n",
       "      <td>854.520</td>\n",
       "      <td>NaN</td>\n",
       "    </tr>\n",
       "    <tr>\n",
       "      <td>114</td>\n",
       "      <td>840.000</td>\n",
       "      <td>NaN</td>\n",
       "    </tr>\n",
       "    <tr>\n",
       "      <td>115</td>\n",
       "      <td>689.850</td>\n",
       "      <td>NaN</td>\n",
       "    </tr>\n",
       "    <tr>\n",
       "      <td>116</td>\n",
       "      <td>553.710</td>\n",
       "      <td>NaN</td>\n",
       "    </tr>\n",
       "    <tr>\n",
       "      <td>117</td>\n",
       "      <td>450.000</td>\n",
       "      <td>NaN</td>\n",
       "    </tr>\n",
       "    <tr>\n",
       "      <td>118</td>\n",
       "      <td>800.000</td>\n",
       "      <td>NaN</td>\n",
       "    </tr>\n",
       "    <tr>\n",
       "      <td>119</td>\n",
       "      <td>432.000</td>\n",
       "      <td>NaN</td>\n",
       "    </tr>\n",
       "  </tbody>\n",
       "</table>\n",
       "</div>"
      ],
      "text/plain": [
       "        price  Prediction\n",
       "90    113.544         NaN\n",
       "91    147.252         NaN\n",
       "92    600.000         NaN\n",
       "93    607.140         NaN\n",
       "94    718.640         NaN\n",
       "95    800.000         NaN\n",
       "96    739.050         NaN\n",
       "97    614.360         NaN\n",
       "98    737.680         NaN\n",
       "99    817.480         NaN\n",
       "100   767.610         NaN\n",
       "101  1324.320         NaN\n",
       "102   912.530         NaN\n",
       "103  1059.370         NaN\n",
       "104   696.180         NaN\n",
       "105   899.910         NaN\n",
       "106  1138.000         NaN\n",
       "107   838.330         NaN\n",
       "108   750.000         NaN\n",
       "109   651.410         NaN\n",
       "110  1180.530         NaN\n",
       "111  1081.980         NaN\n",
       "112   107.408         NaN\n",
       "113   854.520         NaN\n",
       "114   840.000         NaN\n",
       "115   689.850         NaN\n",
       "116   553.710         NaN\n",
       "117   450.000         NaN\n",
       "118   800.000         NaN\n",
       "119   432.000         NaN"
      ]
     },
     "execution_count": 26,
     "metadata": {},
     "output_type": "execute_result"
    }
   ],
   "source": [
    "bitcoin.tail(prediction_days)"
   ]
  },
  {
   "cell_type": "code",
   "execution_count": 29,
   "metadata": {},
   "outputs": [],
   "source": [
    "\n",
    "# Importing library \n",
    "\n",
    "import csv \n",
    "\n",
    "  \n",
    "# data to be written row-wise in csv fil \n",
    "\n",
    "data = [(svm_prediction)]\n",
    "file = open('san.csv', 'a', newline ='')  \n",
    "\n",
    "with file:     \n",
    "\n",
    "    write = csv.writer(file) \n",
    "\n",
    "    write.writerow(data) "
   ]
  },
  {
   "cell_type": "code",
   "execution_count": 31,
   "metadata": {},
   "outputs": [],
   "source": [
    "import numpy as np\n",
    "import pandas as pd\n",
    "prediction = pd.DataFrame(svm_prediction, columns=['predictions']).to_csv('san.csv')"
   ]
  },
  {
   "cell_type": "code",
   "execution_count": 32,
   "metadata": {},
   "outputs": [
    {
     "data": {
      "text/plain": [
       "array([[         nan,          nan],\n",
       "       [  0.        , 543.08156958],\n",
       "       [  1.        , 542.81762818],\n",
       "       [  2.        , 495.23284137],\n",
       "       [  3.        , 482.57755919],\n",
       "       [  4.        , 424.97333159],\n",
       "       [  5.        , 532.57548541],\n",
       "       [  6.        , 443.62278786],\n",
       "       [  7.        , 470.68860083],\n",
       "       [  8.        , 442.13985354],\n",
       "       [  9.        , 562.01489587],\n",
       "       [ 10.        , 480.75676313],\n",
       "       [ 11.        , 414.03795985],\n",
       "       [ 12.        , 679.17484727],\n",
       "       [ 13.        , 565.65559755],\n",
       "       [ 14.        , 414.00823913],\n",
       "       [ 15.        , 671.14322733],\n",
       "       [ 16.        , 440.07116843],\n",
       "       [ 17.        , 596.09577745],\n",
       "       [ 18.        , 456.53988753],\n",
       "       [ 19.        , 426.21552321],\n",
       "       [ 20.        , 393.59013074],\n",
       "       [ 21.        , 527.61546187],\n",
       "       [ 22.        , 545.96154414],\n",
       "       [ 23.        , 620.46886323],\n",
       "       [ 24.        , 598.71540514],\n",
       "       [ 25.        , 412.9107201 ],\n",
       "       [ 26.        , 593.63888723],\n",
       "       [ 27.        , 811.73066382],\n",
       "       [ 28.        , 532.57548541],\n",
       "       [ 29.        , 833.85859385]])"
      ]
     },
     "execution_count": 32,
     "metadata": {},
     "output_type": "execute_result"
    }
   ],
   "source": [
    "np.genfromtxt('c:/Users/lenovo/san.csv', delimiter =',')"
   ]
  },
  {
   "cell_type": "code",
   "execution_count": null,
   "metadata": {},
   "outputs": [],
   "source": [
    "        [['612.05742587'],\n",
    "        ['607.12173389'],\n",
    "        ['183.57583615'],\n",
    "        ['184.38924217'],\n",
    "        ['351.10404807'],\n",
    "        ['532.28413086'],\n",
    "        ['399.47097224'],\n",
    "        ['186.66382116'],\n",
    "        ['396.20825494'],\n",
    "        ['561.36511011'],\n",
    "        ['465.96499148'],\n",
    "        ['309.73618692'] ,\n",
    "        ['604.94028109'] ,\n",
    "        ['394.5902243'],\n",
    "        ['300.4669397'],\n",
    "        ['610.76692993'],\n",
    "        ['300.83385617'],\n",
    "        ['588.21993718'],\n",
    "        ['425.42276386'] ,\n",
    "        ['220.1284653'],\n",
    "        ['279.82198485'],\n",
    "        ['361.05495327'] ,\n",
    "        ['615.12974187'],\n",
    "        ['602.55503124'] ,\n",
    "        ['589.97011316'],\n",
    "        ['287.12602747'] ,\n",
    "        ['212.81447365'],\n",
    "        ['437.1408407'],\n",
    "        ['532.28413086'],\n",
    "        ['483.15342951']] \n"
   ]
  },
  {
   "cell_type": "code",
   "execution_count": null,
   "metadata": {},
   "outputs": [],
   "source": []
  }
 ],
 "metadata": {
  "kernelspec": {
   "display_name": "Python 3",
   "language": "python",
   "name": "python3"
  },
  "language_info": {
   "codemirror_mode": {
    "name": "ipython",
    "version": 3
   },
   "file_extension": ".py",
   "mimetype": "text/x-python",
   "name": "python",
   "nbconvert_exporter": "python",
   "pygments_lexer": "ipython3",
   "version": "3.7.4"
  }
 },
 "nbformat": 4,
 "nbformat_minor": 2
}
